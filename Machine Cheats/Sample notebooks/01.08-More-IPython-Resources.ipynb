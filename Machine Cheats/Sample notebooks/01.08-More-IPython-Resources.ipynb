version https://git-lfs.github.com/spec/v1
oid sha256:4cb06adf9082b643c07c7ea6057f520d2fb3447f96430900095ad417dc871709
size 5629
